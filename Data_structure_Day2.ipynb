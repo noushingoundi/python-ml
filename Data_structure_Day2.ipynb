{
  "nbformat": 4,
  "nbformat_minor": 0,
  "metadata": {
    "colab": {
      "provenance": []
    },
    "kernelspec": {
      "name": "python3",
      "display_name": "Python 3"
    },
    "language_info": {
      "name": "python"
    }
  },
  "cells": [
    {
      "cell_type": "markdown",
      "source": [
        "Dictionary\n"
      ],
      "metadata": {
        "id": "29s04PbwCahK"
      }
    },
    {
      "cell_type": "markdown",
      "source": [
        "#Dictionary creation"
      ],
      "metadata": {
        "id": "RfZ1uxm5ka8Z"
      }
    },
    {
      "cell_type": "code",
      "execution_count": null,
      "metadata": {
        "id": "lqcfikDdCJNw"
      },
      "outputs": [],
      "source": [
        "person = {\n",
        "    \"name\": \"alice johnson\",\n",
        "    \"age\": 23,\n",
        "    \"profession\": \"software engineer\",\n",
        "    \"salary\":75000,\n",
        "    \"skills\":[\"python\",\"javascript\",\"sql\"]\n",
        "}"
      ]
    },
    {
      "cell_type": "markdown",
      "source": [
        "#Accesing values"
      ],
      "metadata": {
        "id": "co9xFTAUknf5"
      }
    },
    {
      "cell_type": "code",
      "source": [
        "print(f\"Name:{person['name']}\")\n",
        "print(f\"Age:{person.get('age','unknown')}\")"
      ],
      "metadata": {
        "colab": {
          "base_uri": "https://localhost:8080/"
        },
        "id": "eHjUJPZpksnJ",
        "outputId": "ffaad65a-2ce5-4f00-e9a5-63febd21b6bc"
      },
      "execution_count": null,
      "outputs": [
        {
          "output_type": "stream",
          "name": "stdout",
          "text": [
            "Name:alice johnson\n",
            "Age:23\n"
          ]
        }
      ]
    },
    {
      "cell_type": "markdown",
      "source": [
        "#Dictionary methods"
      ],
      "metadata": {
        "id": "e5Uf7JTblCGh"
      }
    },
    {
      "cell_type": "code",
      "source": [
        "print(f\"Keys:{list(person.keys())}\")\n",
        "print(f\"values:{list(person.values())}\")\n",
        "print(f\"Items:{list(person.items())}\")"
      ],
      "metadata": {
        "colab": {
          "base_uri": "https://localhost:8080/"
        },
        "id": "Wy3CteEzlN4a",
        "outputId": "47b0decf-c494-4f00-9991-3c17744be224"
      },
      "execution_count": null,
      "outputs": [
        {
          "output_type": "stream",
          "name": "stdout",
          "text": [
            "Keys:['name', 'age', 'profession', 'salary', 'skills']\n",
            "values:['alice johnson', 23, 'software engineer', 75000, ['python', 'javascript', 'sql']]\n",
            "Items:[('name', 'alice johnson'), ('age', 23), ('profession', 'software engineer'), ('salary', 75000), ('skills', ['python', 'javascript', 'sql'])]\n"
          ]
        }
      ]
    },
    {
      "cell_type": "markdown",
      "source": [
        "#Adding/updating"
      ],
      "metadata": {
        "id": "PJ8pDwgClTTp"
      }
    },
    {
      "cell_type": "code",
      "source": [
        "person[\"location\"] = \"New york\"\n",
        "person[\"salary\"] = 8000"
      ],
      "metadata": {
        "id": "tjgf0IUYlkIx"
      },
      "execution_count": null,
      "outputs": []
    },
    {
      "cell_type": "markdown",
      "source": [
        "#Practical use case:Inventory management"
      ],
      "metadata": {
        "id": "wJFG-RaDlzFh"
      }
    },
    {
      "cell_type": "code",
      "source": [
        "inventory = {\n",
        "    \"laptops\":{\n",
        "        \"quantity\":50,\n",
        "        \"price\":999.99\n",
        "    },\n",
        "    \"phones\":{\n",
        "        \"quantity\":100,\n",
        "        \"price\":599.99\n",
        "    },\n",
        "    \"tablets\":{\n",
        "        \"quantity\":30,\n",
        "        \"price\":399.99\n",
        "    }\n",
        "\n",
        "}"
      ],
      "metadata": {
        "id": "FOWKZLySl3Yp"
      },
      "execution_count": null,
      "outputs": []
    },
    {
      "cell_type": "markdown",
      "source": [
        "#Nested access"
      ],
      "metadata": {
        "id": "Jd88fPO_l-GB"
      }
    },
    {
      "cell_type": "code",
      "source": [
        "print(f\"Laptop price:${inventory['laptops']['price']}\")"
      ],
      "metadata": {
        "colab": {
          "base_uri": "https://localhost:8080/"
        },
        "id": "mlSzoffOmEOB",
        "outputId": "b9cebfd2-20d3-44f9-9cb7-7ce873e33ff7"
      },
      "execution_count": null,
      "outputs": [
        {
          "output_type": "stream",
          "name": "stdout",
          "text": [
            "Laptop price:$999.99\n"
          ]
        }
      ]
    },
    {
      "cell_type": "markdown",
      "source": [
        "#Sets"
      ],
      "metadata": {
        "id": "c-AnwOoxmP1q"
      }
    },
    {
      "cell_type": "code",
      "source": [
        "colors = {\"red\",\"green\",\"blue\",\"red\"}\n",
        "print(f\"Colors:{colors}\")"
      ],
      "metadata": {
        "colab": {
          "base_uri": "https://localhost:8080/"
        },
        "id": "MQlWdGUAmaZa",
        "outputId": "b0b70926-2dab-4c38-b961-4d769b9cc729"
      },
      "execution_count": null,
      "outputs": [
        {
          "output_type": "stream",
          "name": "stdout",
          "text": [
            "Colors:{'green', 'red', 'blue'}\n"
          ]
        }
      ]
    },
    {
      "cell_type": "markdown",
      "source": [
        "#Set operations"
      ],
      "metadata": {
        "id": "dvjzx3C7mnah"
      }
    },
    {
      "cell_type": "code",
      "source": [
        "team1_skills ={\"python\",\"javascript\",\"sql\",\"react\"}\n",
        "team2_skills ={\"javascript\",\"sql\",\"java\",\"spring\"}"
      ],
      "metadata": {
        "id": "WpAW1pqwmuGh"
      },
      "execution_count": null,
      "outputs": []
    },
    {
      "cell_type": "markdown",
      "source": [
        "#Common operations"
      ],
      "metadata": {
        "id": "Uqq0hZUVm4sR"
      }
    },
    {
      "cell_type": "code",
      "source": [
        "print(f\"Common skills:{team1_skills.intersection(team2_skills)}\")\n",
        "print(f\"All skills:{team1_skills.union(team2_skills)}\")\n",
        "print(f\"Team1 only:{team1_skills.difference(team2_skills)}\")"
      ],
      "metadata": {
        "colab": {
          "base_uri": "https://localhost:8080/"
        },
        "id": "kR2V9UzAm-D6",
        "outputId": "175a5861-8625-451e-ff71-dd93c1148cb9"
      },
      "execution_count": null,
      "outputs": [
        {
          "output_type": "stream",
          "name": "stdout",
          "text": [
            "Common skills:{'sql', 'javascript'}\n",
            "All skills:{'spring', 'sql', 'react', 'javascript', 'python', 'java'}\n",
            "Team1 only:{'python', 'react'}\n"
          ]
        }
      ]
    },
    {
      "cell_type": "markdown",
      "source": [
        "#Adding to sets"
      ],
      "metadata": {
        "id": "XCGYBloHnEJ6"
      }
    },
    {
      "cell_type": "code",
      "source": [
        "colors.add(\"yellow\")\n",
        "colors.update([\"purple\",\"orange\"])\n",
        "print(f\"updated colors:{colors}\")"
      ],
      "metadata": {
        "colab": {
          "base_uri": "https://localhost:8080/"
        },
        "id": "ZMD8_LkunJpx",
        "outputId": "12d61b49-9d32-40e0-f1fb-4d73c13f1b86"
      },
      "execution_count": null,
      "outputs": [
        {
          "output_type": "stream",
          "name": "stdout",
          "text": [
            "updated colors:{'purple', 'green', 'yellow', 'orange', 'red', 'blue'}\n"
          ]
        }
      ]
    },
    {
      "cell_type": "markdown",
      "source": [
        "#Control Flow"
      ],
      "metadata": {
        "id": "8JIPWp7bnT6Z"
      }
    },
    {
      "cell_type": "markdown",
      "source": [
        "#Basic if-else"
      ],
      "metadata": {
        "id": "4NAtVcunnevR"
      }
    },
    {
      "cell_type": "code",
      "source": [
        "def get_grade_letter(score):\n",
        "  if score>=90:\n",
        "    return \"A\"\n",
        "  elif score>=80:\n",
        "    return \"B\"\n",
        "  elif score>=70:\n",
        "    return \"C\"\n",
        "  elif score>=60:\n",
        "    return \"D\"\n",
        "  else:\n",
        "    return \"E\""
      ],
      "metadata": {
        "id": "HzoHJYImnZgh"
      },
      "execution_count": null,
      "outputs": []
    },
    {
      "cell_type": "markdown",
      "source": [
        "#Test the function"
      ],
      "metadata": {
        "id": "ylDjwI0CnnZi"
      }
    },
    {
      "cell_type": "code",
      "source": [
        "test_score=[95,83,72,65,58]\n",
        "for score in test_score:\n",
        "  grade=get_grade_letter(score)\n",
        "  print(f\"Score {score} : Grade{grade}\")"
      ],
      "metadata": {
        "colab": {
          "base_uri": "https://localhost:8080/"
        },
        "id": "fiS0hMv4ns-Z",
        "outputId": "edf252a7-3375-4135-88d8-8f0367004343"
      },
      "execution_count": null,
      "outputs": [
        {
          "output_type": "stream",
          "name": "stdout",
          "text": [
            "Score 95 : GradeA\n",
            "Score 83 : GradeB\n",
            "Score 72 : GradeC\n",
            "Score 65 : GradeD\n",
            "Score 58 : GradeE\n"
          ]
        }
      ]
    },
    {
      "cell_type": "markdown",
      "source": [
        "#Nested conditions"
      ],
      "metadata": {
        "id": "NWeEOnfJny4h"
      }
    },
    {
      "cell_type": "code",
      "source": [
        "def get_shipping_cost(weight,distance):\n",
        "  base_cost = 5.0\n",
        "\n",
        "  if weight <=1:\n",
        "    weight_cost = 2.0\n",
        "  elif weight <= 5:\n",
        "    weight_cost = 5.0\n",
        "  else:\n",
        "    weight_cost = 10.0\n",
        "\n",
        "  if distance <= 100:\n",
        "    distance_cost = 1.0\n",
        "  elif distance <= 500:\n",
        "    distance_cost = 3.0\n",
        "  else:\n",
        "    distance_cost = 7.0\n",
        "  return base_cost+weight_cost+distance_cost\n",
        "\n"
      ],
      "metadata": {
        "id": "wE74jRMJn_WR"
      },
      "execution_count": null,
      "outputs": []
    },
    {
      "cell_type": "markdown",
      "source": [
        "#Test shipping costs"
      ],
      "metadata": {
        "id": "gchrLr_PoGHR"
      }
    },
    {
      "cell_type": "code",
      "source": [
        "print(f\"light,close:${get_shipping_cost(0.5,50)}\")\n",
        "print(f\"heavy,far:{get_shipping_cost(10,800)}\")"
      ],
      "metadata": {
        "colab": {
          "base_uri": "https://localhost:8080/"
        },
        "id": "EdqkUE0eoJxR",
        "outputId": "934bf695-40eb-489b-acd7-ccfd52cabae6"
      },
      "execution_count": null,
      "outputs": [
        {
          "output_type": "stream",
          "name": "stdout",
          "text": [
            "light,close:$8.0\n",
            "heavy,far:22.0\n"
          ]
        }
      ]
    },
    {
      "cell_type": "markdown",
      "source": [
        "#Loops for loop"
      ],
      "metadata": {
        "id": "iQWBexBNoMUJ"
      }
    },
    {
      "cell_type": "markdown",
      "source": [
        "#Basic for loop"
      ],
      "metadata": {
        "id": "sZOoIMNIoPcJ"
      }
    },
    {
      "cell_type": "code",
      "source": [
        "fruits = [\"apple\",\"banana\",\"orange\",\"grape\"]\n",
        "for fruit in fruits:\n",
        "  print(f\"I like {fruit}\")"
      ],
      "metadata": {
        "colab": {
          "base_uri": "https://localhost:8080/"
        },
        "id": "op939dPpoS0Z",
        "outputId": "9c539070-2850-4667-cd6d-08e448853c89"
      },
      "execution_count": null,
      "outputs": [
        {
          "output_type": "stream",
          "name": "stdout",
          "text": [
            "I like apple\n",
            "I like banana\n",
            "I like orange\n",
            "I like grape\n"
          ]
        }
      ]
    },
    {
      "cell_type": "markdown",
      "source": [
        "#Loop with enmerate (get index)\n"
      ],
      "metadata": {
        "id": "cOFjwTJ-oVNp"
      }
    },
    {
      "cell_type": "code",
      "source": [
        "for i,fruit in enumerate(fruits):\n",
        "  print(f\"{i+1}.{fruit}\")"
      ],
      "metadata": {
        "colab": {
          "base_uri": "https://localhost:8080/"
        },
        "id": "JJCMosS-oYmJ",
        "outputId": "5c66ef26-b6e9-414e-84e1-20047f3275e3"
      },
      "execution_count": null,
      "outputs": [
        {
          "output_type": "stream",
          "name": "stdout",
          "text": [
            "1.apple\n",
            "2.banana\n",
            "3.orange\n",
            "4.grape\n"
          ]
        }
      ]
    },
    {
      "cell_type": "markdown",
      "source": [
        "#Loop with range"
      ],
      "metadata": {
        "id": "iaNC138hodOB"
      }
    },
    {
      "cell_type": "code",
      "source": [
        "for day in range(1,8):\n",
        "  print(f\"day {day} of the week\")"
      ],
      "metadata": {
        "colab": {
          "base_uri": "https://localhost:8080/"
        },
        "id": "wbWLOL3Rohu5",
        "outputId": "4f022de6-f2da-40bf-9a24-27577c4a866f"
      },
      "execution_count": null,
      "outputs": [
        {
          "output_type": "stream",
          "name": "stdout",
          "text": [
            "day 1 of the week\n",
            "day 2 of the week\n",
            "day 3 of the week\n",
            "day 4 of the week\n",
            "day 5 of the week\n",
            "day 6 of the week\n",
            "day 7 of the week\n"
          ]
        }
      ]
    },
    {
      "cell_type": "markdown",
      "source": [
        "#Nested loops-Creating a multiplication table"
      ],
      "metadata": {
        "id": "o3S__NLKoneq"
      }
    },
    {
      "cell_type": "code",
      "source": [
        "print(\"Multiplication table:\")\n",
        "for i in range(1,6):\n",
        "  for j in range(1,6):\n",
        "    product = i*j\n",
        "    print(f\"{i} x {j} = {product:2d}\",end=\" \")\n",
        "    print()"
      ],
      "metadata": {
        "colab": {
          "base_uri": "https://localhost:8080/"
        },
        "id": "GSDfjIrJorBj",
        "outputId": "cce37463-0cdb-4717-ab67-c507cb8a415e"
      },
      "execution_count": null,
      "outputs": [
        {
          "output_type": "stream",
          "name": "stdout",
          "text": [
            "Multiplication table:\n",
            "1 x 1 =  1 \n",
            "1 x 2 =  2 \n",
            "1 x 3 =  3 \n",
            "1 x 4 =  4 \n",
            "1 x 5 =  5 \n",
            "2 x 1 =  2 \n",
            "2 x 2 =  4 \n",
            "2 x 3 =  6 \n",
            "2 x 4 =  8 \n",
            "2 x 5 = 10 \n",
            "3 x 1 =  3 \n",
            "3 x 2 =  6 \n",
            "3 x 3 =  9 \n",
            "3 x 4 = 12 \n",
            "3 x 5 = 15 \n",
            "4 x 1 =  4 \n",
            "4 x 2 =  8 \n",
            "4 x 3 = 12 \n",
            "4 x 4 = 16 \n",
            "4 x 5 = 20 \n",
            "5 x 1 =  5 \n",
            "5 x 2 = 10 \n",
            "5 x 3 = 15 \n",
            "5 x 4 = 20 \n",
            "5 x 5 = 25 \n"
          ]
        }
      ]
    },
    {
      "cell_type": "markdown",
      "source": [
        "#Processing data with loops"
      ],
      "metadata": {
        "id": "leifevv6ouxh"
      }
    },
    {
      "cell_type": "code",
      "source": [
        "sales_data = [\n",
        "    {\"product\":\"laptop\",\"price\":999,\"quantity\":5},\n",
        "    {\"product\":\"phone\",\"price\":599,\"quantity\":10},\n",
        "    {\"product\":\"tablet\",\"price\":399,\"quantity\":8},\n",
        "]\n",
        "total_revenue = 0\n",
        "\n",
        "for item in sales_data:\n",
        "  item_revenue=item[\"price\"]*item[\"quantity\"]\n",
        "  total_revenue=item_revenue\n",
        "  print(f\"{item['product']}:${item_revenue}\")\n",
        "\n",
        "print(f\"total_revenue:${total_revenue}\")"
      ],
      "metadata": {
        "colab": {
          "base_uri": "https://localhost:8080/"
        },
        "id": "QuhbW2Vpoy75",
        "outputId": "f03f3b56-c94a-480e-8783-a19c623dec53"
      },
      "execution_count": null,
      "outputs": [
        {
          "output_type": "stream",
          "name": "stdout",
          "text": [
            "laptop:$4995\n",
            "phone:$5990\n",
            "tablet:$3192\n",
            "total_revenue:$3192\n"
          ]
        }
      ]
    },
    {
      "cell_type": "markdown",
      "source": [
        "#Loops-while loop"
      ],
      "metadata": {
        "id": "0Fsxcxmao2Gy"
      }
    },
    {
      "cell_type": "markdown",
      "source": [
        "#While loop for user input simulation"
      ],
      "metadata": {
        "id": "eCoGeB8io88J"
      }
    },
    {
      "cell_type": "code",
      "source": [
        "def simple_guessing_game():\n",
        "  target = 7\n",
        "  guess = 0\n",
        "  attempts = 0\n",
        "  print(\"guess the number between 1 and 10!\")\n",
        "\n",
        "  while guess!=target:\n",
        "    import random\n",
        "    guess = random.randint(1,10)\n",
        "    attempts += 1\n",
        "\n",
        "    if  guess < target:\n",
        "      print(f\"guess {attempts}:{guess} - too low!\")\n",
        "    elif  guess > target:\n",
        "      print(f\"guess {attempts}:{guess} - too high!\")\n",
        "    else:\n",
        "      print(f\"guess {attempts}:{guess} - correct!\")\n",
        "\n",
        "\n",
        "    if attempts > 10:\n",
        "      print(\"max attempts reached!\")\n",
        "      break\n",
        "\n",
        "  print(f\"game finished in {attempts} attempts\")\n",
        "\n",
        "\n",
        "simple_guessing_game()\n",
        "\n"
      ],
      "metadata": {
        "colab": {
          "base_uri": "https://localhost:8080/"
        },
        "id": "WYbMle5opBZJ",
        "outputId": "056fbd72-789d-42f2-8e03-9701a77332bf"
      },
      "execution_count": null,
      "outputs": [
        {
          "output_type": "stream",
          "name": "stdout",
          "text": [
            "guess the number between 1 and 10!\n",
            "guess 1:3 - too low!\n",
            "guess 2:6 - too low!\n",
            "guess 3:9 - too high!\n",
            "guess 4:2 - too low!\n",
            "guess 5:9 - too high!\n",
            "guess 6:5 - too low!\n",
            "guess 7:3 - too low!\n",
            "guess 8:1 - too low!\n",
            "guess 9:1 - too low!\n",
            "guess 10:5 - too low!\n",
            "guess 11:3 - too low!\n",
            "max attempts reached!\n",
            "game finished in 11 attempts\n"
          ]
        }
      ]
    },
    {
      "cell_type": "markdown",
      "source": [
        "#while loop for processing"
      ],
      "metadata": {
        "id": "LZsdoEpqpEoy"
      }
    },
    {
      "cell_type": "code",
      "source": [
        "def process_queue():\n",
        "  queue = [\"task1\",\"task2\",\"task3\",\"task4\"]\n",
        "\n",
        "  while queue:\n",
        "    current_task = queue.pop(0)\n",
        "    print(f\"processing: {current_task}\")\n",
        "\n",
        "    print(f\"remaining task: {len(queue)}\")\n",
        "\n",
        "  print(\"All task completed\")\n",
        "\n",
        "process_queue()"
      ],
      "metadata": {
        "colab": {
          "base_uri": "https://localhost:8080/"
        },
        "id": "NdGp4nu3pIrR",
        "outputId": "ece72f7b-0df4-426d-ca91-dfc2072fed4a"
      },
      "execution_count": null,
      "outputs": [
        {
          "output_type": "stream",
          "name": "stdout",
          "text": [
            "processing: task1\n",
            "remaining task: 3\n",
            "processing: task2\n",
            "remaining task: 2\n",
            "processing: task3\n",
            "remaining task: 1\n",
            "processing: task4\n",
            "remaining task: 0\n",
            "All task completed\n"
          ]
        }
      ]
    },
    {
      "cell_type": "markdown",
      "source": [
        "#function basics"
      ],
      "metadata": {
        "id": "hL52IeY7pLgB"
      }
    },
    {
      "cell_type": "code",
      "source": [
        "def greet(name):\n",
        "  return f\"Hello, {name}\""
      ],
      "metadata": {
        "id": "elYN17FHpPOp"
      },
      "execution_count": null,
      "outputs": []
    },
    {
      "cell_type": "markdown",
      "source": [
        "Fuction call"
      ],
      "metadata": {
        "id": "bVlfcoeYpTxZ"
      }
    },
    {
      "cell_type": "code",
      "source": [
        "message = greet(\"python programmer\")\n",
        "print(message)"
      ],
      "metadata": {
        "colab": {
          "base_uri": "https://localhost:8080/"
        },
        "id": "fsHXlVNQpXIp",
        "outputId": "1cec1db0-d267-47d7-8e91-871827f27184"
      },
      "execution_count": null,
      "outputs": [
        {
          "output_type": "stream",
          "name": "stdout",
          "text": [
            "Hello, python programmer\n"
          ]
        }
      ]
    },
    {
      "cell_type": "markdown",
      "source": [
        "Function with multiple parameters"
      ],
      "metadata": {
        "id": "Ddx14IdApZih"
      }
    },
    {
      "cell_type": "code",
      "source": [
        "def calculate_area(length,width):\n",
        "  area = length*width\n",
        "  return area"
      ],
      "metadata": {
        "id": "QnnjDc-gpdER"
      },
      "execution_count": null,
      "outputs": []
    },
    {
      "cell_type": "markdown",
      "source": [
        "Test the function"
      ],
      "metadata": {
        "id": "mUZpl1zHpfyZ"
      }
    },
    {
      "cell_type": "code",
      "source": [
        "room_area = calculate_area(12,10)\n",
        "print(f\"Room area:{room_area} square feet\")"
      ],
      "metadata": {
        "colab": {
          "base_uri": "https://localhost:8080/"
        },
        "id": "Z0CVUh8ipjNa",
        "outputId": "abe78cd9-be28-4ce6-9dfc-f50b31e33556"
      },
      "execution_count": null,
      "outputs": [
        {
          "output_type": "stream",
          "name": "stdout",
          "text": [
            "Room area:120 square feet\n"
          ]
        }
      ]
    },
    {
      "cell_type": "markdown",
      "source": [
        "#Function with default parameters"
      ],
      "metadata": {
        "id": "wWRbv5uEploC"
      }
    },
    {
      "cell_type": "code",
      "source": [
        "def create_user_profile(name, age=18,location=\"unknown\", active=True):\n",
        "  return{\n",
        "      \"name\":name,\n",
        "      \"age\":age,\n",
        "      \"location\":location,\n",
        "      \"active\":active\n",
        "  }\n",
        "\n"
      ],
      "metadata": {
        "id": "GVecu8-fpoha"
      },
      "execution_count": null,
      "outputs": []
    },
    {
      "cell_type": "markdown",
      "source": [
        "#Different ways to call"
      ],
      "metadata": {
        "id": "OH2AsX91pqsZ"
      }
    },
    {
      "cell_type": "code",
      "source": [
        "profile1 = create_user_profile(\"alice\")\n",
        "profile2 = create_user_profile(\"bob\")\n",
        "profile3 = create_user_profile(\"charlie\",location=\"new york\",age=30)\n",
        "print(f\"profile 1:{profile1}\")\n",
        "print(f\"profile 2:{profile2}\")\n",
        "print(f\"profile 3:{profile3}\")"
      ],
      "metadata": {
        "colab": {
          "base_uri": "https://localhost:8080/"
        },
        "id": "3LjDTSpnpuH6",
        "outputId": "ca2953a3-f29f-47d3-d971-f89b5ba4f157"
      },
      "execution_count": null,
      "outputs": [
        {
          "output_type": "stream",
          "name": "stdout",
          "text": [
            "profile 1:{'name': 'alice', 'age': 18, 'location': 'unknown', 'active': True}\n",
            "profile 2:{'name': 'bob', 'age': 18, 'location': 'unknown', 'active': True}\n",
            "profile 3:{'name': 'charlie', 'age': 30, 'location': 'new york', 'active': True}\n"
          ]
        }
      ]
    },
    {
      "cell_type": "markdown",
      "source": [
        "#Advanced function concepts"
      ],
      "metadata": {
        "id": "wR6V7dePpzca"
      }
    },
    {
      "cell_type": "markdown",
      "source": [
        "#Function returning multiple values"
      ],
      "metadata": {
        "id": "t2dfjBWIp2bC"
      }
    },
    {
      "cell_type": "code",
      "source": [
        "def analyze_text(text):\n",
        "  words = text.split()\n",
        "  word_count = len(words)\n",
        "  char_count = len(text)\n",
        "  char_count_no_space = len(text.replace(\" \",\" \"))\n",
        "\n",
        "  return word_count, char_count, char_count_no_space"
      ],
      "metadata": {
        "id": "J5U04b4Mp5Ih"
      },
      "execution_count": null,
      "outputs": []
    },
    {
      "cell_type": "markdown",
      "source": [
        "#Test with sample text"
      ],
      "metadata": {
        "id": "7c2d71S7qDZa"
      }
    },
    {
      "cell_type": "code",
      "source": [
        "sample_text = \"Python is a powerful programming language\"\n",
        "words,chars,char_no_space = analyze_text(sample_text)\n",
        "\n",
        "print(f\"Text:'{sample_text}'\")\n",
        "print(f\"Word count:{words}\")\n",
        "print(f\"char count: {chars}\")\n",
        "print(f\"char (no spaces):{char_no_space}\")"
      ],
      "metadata": {
        "colab": {
          "base_uri": "https://localhost:8080/"
        },
        "id": "v4rtJavXqMnD",
        "outputId": "2337e6fe-fb03-44db-caa6-5732cb6bb465"
      },
      "execution_count": null,
      "outputs": [
        {
          "output_type": "stream",
          "name": "stdout",
          "text": [
            "Text:'Python is a powerful programming language'\n",
            "Word count:6\n",
            "char count: 41\n",
            "char (no spaces):41\n"
          ]
        }
      ]
    },
    {
      "cell_type": "markdown",
      "source": [
        "#Variable-length arguments"
      ],
      "metadata": {
        "id": "S_wrkuPsqQxh"
      }
    },
    {
      "cell_type": "code",
      "source": [
        "def calculate_average(*numbers):\n",
        "  if not numbers:\n",
        "    return 0\n",
        "\n",
        "  return sum(numbers)/len(numbers)\n"
      ],
      "metadata": {
        "id": "dGRdRKaiqVjR"
      },
      "execution_count": null,
      "outputs": []
    },
    {
      "cell_type": "markdown",
      "source": [
        "#test with different numbers of arguments"
      ],
      "metadata": {
        "id": "61bYleunqZ8y"
      }
    },
    {
      "cell_type": "code",
      "source": [
        "avg1 = calculate_average(10,20,30)\n",
        "avg2 = calculate_average(5,15,25,35,45)\n",
        "avg3 = calculate_average(100)\n",
        "\n",
        "print(f\"Average of 10,20,30:{avg1}\")\n",
        "print(f\"Average of 5,15,25,35,45:{avg2}\")\n",
        "print(f\"Average of 100:{avg3}\")"
      ],
      "metadata": {
        "colab": {
          "base_uri": "https://localhost:8080/"
        },
        "id": "4rpO3Cqbqc-B",
        "outputId": "35b411f9-87d0-4268-b89d-5f12921a149a"
      },
      "execution_count": null,
      "outputs": [
        {
          "output_type": "stream",
          "name": "stdout",
          "text": [
            "Average of 10,20,30:20.0\n",
            "Average of 5,15,25,35,45:25.0\n",
            "Average of 100:100.0\n"
          ]
        }
      ]
    },
    {
      "cell_type": "markdown",
      "source": [
        "#Keyword arguments"
      ],
      "metadata": {
        "id": "vPMRer2kqhSK"
      }
    },
    {
      "cell_type": "code",
      "source": [
        "def create_report(**data):\n",
        "  print(\"=== REPORT ===\")\n",
        "\n",
        "  for key,value in data.items():\n",
        "    print(f\"{key.replace('_','').title()}: {value}\")\n",
        "\n",
        "  print(\"============\")\n",
        "\n",
        "create_report(\n",
        "    title=\"Monthly sales report\",\n",
        "    date=\"2024-01-01\",\n",
        "    total_sales=15000,\n",
        "    new_customers=25,\n",
        "    returning_customers=150\n",
        ")"
      ],
      "metadata": {
        "colab": {
          "base_uri": "https://localhost:8080/"
        },
        "id": "Rqu4vIVpqlIy",
        "outputId": "62918308-df3f-4279-9517-47c6fefcc3c1"
      },
      "execution_count": null,
      "outputs": [
        {
          "output_type": "stream",
          "name": "stdout",
          "text": [
            "=== REPORT ===\n",
            "Title: Monthly sales report\n",
            "Date: 2024-01-01\n",
            "Totalsales: 15000\n",
            "Newcustomers: 25\n",
            "Returningcustomers: 150\n",
            "============\n"
          ]
        }
      ]
    },
    {
      "cell_type": "markdown",
      "source": [
        "#Lambda functions"
      ],
      "metadata": {
        "id": "vLWG2j_CqoSK"
      }
    },
    {
      "cell_type": "markdown",
      "source": [
        "Lambda functions(anonymous functions)"
      ],
      "metadata": {
        "id": "_b-RQi_erWVy"
      }
    },
    {
      "cell_type": "markdown",
      "source": [
        "#Regular function"
      ],
      "metadata": {
        "id": "NeQBxWrlroaK"
      }
    },
    {
      "cell_type": "code",
      "source": [
        "def square(x):\n",
        "  return x**2"
      ],
      "metadata": {
        "id": "ySsB1H6Grfzi"
      },
      "execution_count": null,
      "outputs": []
    },
    {
      "cell_type": "markdown",
      "source": [
        "Lambda equivalent"
      ],
      "metadata": {
        "id": "lryo5p4NrsA6"
      }
    },
    {
      "cell_type": "code",
      "source": [
        "square_lambda = lambda x:x**2\n",
        "print(f\"Regular function:{square(5)}\")\n",
        "print(f\"Lambda function:{square_lambda(5)}\")\n"
      ],
      "metadata": {
        "colab": {
          "base_uri": "https://localhost:8080/"
        },
        "id": "DHjvaexPrx6a",
        "outputId": "26d86847-14b6-403f-b875-e212f3142b0f"
      },
      "execution_count": null,
      "outputs": [
        {
          "output_type": "stream",
          "name": "stdout",
          "text": [
            "Regular function:25\n",
            "Lambda function:25\n"
          ]
        }
      ]
    },
    {
      "cell_type": "markdown",
      "source": [
        "#Lambda with multiple arguments"
      ],
      "metadata": {
        "id": "ryFf5vVFr1X6"
      }
    },
    {
      "cell_type": "code",
      "source": [
        "multiply = lambda x,y:x*y\n",
        "print(f\"multiply:{multiply(3,4)}\")"
      ],
      "metadata": {
        "colab": {
          "base_uri": "https://localhost:8080/"
        },
        "id": "i51zgK2Ar43q",
        "outputId": "5964043f-ba2a-44b4-aaa2-b8ad482ba390"
      },
      "execution_count": null,
      "outputs": [
        {
          "output_type": "stream",
          "name": "stdout",
          "text": [
            "multiply:12\n"
          ]
        }
      ]
    },
    {
      "cell_type": "markdown",
      "source": [
        "Lambda with Built-in Functions"
      ],
      "metadata": {
        "id": "srEm7cvU5A9-"
      }
    },
    {
      "cell_type": "code",
      "source": [
        "numbers = [1,2,3,4,5]\n",
        "squared = list(map(lambda x: x**2,numbers))\n",
        "print(f\"squared numbers:{squared}\")"
      ],
      "metadata": {
        "colab": {
          "base_uri": "https://localhost:8080/"
        },
        "id": "z7i0axjBsc0C",
        "outputId": "6dd7fa3e-35ab-4300-aebd-7b5db90f05e2"
      },
      "execution_count": null,
      "outputs": [
        {
          "output_type": "stream",
          "name": "stdout",
          "text": [
            "squared numbers:[1, 4, 9, 16, 25]\n"
          ]
        }
      ]
    },
    {
      "cell_type": "markdown",
      "source": [
        "Filtering with lambda"
      ],
      "metadata": {
        "id": "4GrsWApHsfIK"
      }
    },
    {
      "cell_type": "code",
      "source": [
        "ages = [16,21,35,12,45,18,67]\n",
        "adults = list(filter(lambda age: age >= 18,ages))\n",
        "print(f\"Adult ages:{adults}\")"
      ],
      "metadata": {
        "colab": {
          "base_uri": "https://localhost:8080/"
        },
        "id": "6FosvnzxsjAC",
        "outputId": "0454f202-31b3-47da-8786-373646847ee4"
      },
      "execution_count": null,
      "outputs": [
        {
          "output_type": "stream",
          "name": "stdout",
          "text": [
            "Adult ages:[21, 35, 45, 18, 67]\n"
          ]
        }
      ]
    },
    {
      "cell_type": "markdown",
      "source": [
        "Sorting with lambda"
      ],
      "metadata": {
        "id": "gzEr6s5xsmRa"
      }
    },
    {
      "cell_type": "code",
      "source": [
        "people = [\n",
        "    {\"name\":\"alice\",\"age\":30},\n",
        "    {\"name\":\"bob\",\"age\":25},\n",
        "    {\"name\":\"charlie\",\"age\":35}\n",
        "]\n",
        "sorted_people = sorted(\n",
        "    people,\n",
        "    key=lambda person: person[\"age\"]\n",
        ")\n",
        "\n",
        "print(\"people sorted by age:\")\n",
        "\n",
        "\n",
        "for person in sorted_people:\n",
        "  print(f\"{person['name']}: {person['age']}\")"
      ],
      "metadata": {
        "colab": {
          "base_uri": "https://localhost:8080/"
        },
        "id": "__f_mYzTszu6",
        "outputId": "6f168609-f807-4e42-834d-1ebeeea8f699"
      },
      "execution_count": null,
      "outputs": [
        {
          "output_type": "stream",
          "name": "stdout",
          "text": [
            "people sorted by age:\n",
            "bob: 25\n",
            "alice: 30\n",
            "charlie: 35\n"
          ]
        }
      ]
    }
  ]
}