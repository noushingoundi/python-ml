{
  "nbformat": 4,
  "nbformat_minor": 0,
  "metadata": {
    "colab": {
      "provenance": []
    },
    "kernelspec": {
      "name": "python3",
      "display_name": "Python 3"
    },
    "language_info": {
      "name": "python"
    }
  },
  "cells": [
    {
      "cell_type": "code",
      "execution_count": null,
      "metadata": {
        "colab": {
          "base_uri": "https://localhost:8080/"
        },
        "id": "cz4Q3WR-xa1p",
        "outputId": "a8349c98-e085-4d10-f948-bbe0988e7eab"
      },
      "outputs": [
        {
          "output_type": "stream",
          "name": "stdout",
          "text": [
            "my name is noushin\n"
          ]
        }
      ],
      "source": [
        "name=\"noushin\"\n",
        "print(f\"my name is {name}\")"
      ]
    },
    {
      "cell_type": "markdown",
      "source": [
        "**Python Syntax & Structure**"
      ],
      "metadata": {
        "id": "oW-U5HoTGDD5"
      }
    },
    {
      "cell_type": "markdown",
      "source": [
        "Basic Syntax rules"
      ],
      "metadata": {
        "id": "E-18voLgGXCR"
      }
    },
    {
      "cell_type": "code",
      "source": [
        "print(\"Hello,World!\") # Function call\n",
        "x = 5 #variable assignment\n",
        "y = 10 # no need to declare type"
      ],
      "metadata": {
        "colab": {
          "base_uri": "https://localhost:8080/"
        },
        "id": "ISjgO4H4-Roi",
        "outputId": "4b2d0d56-4691-483e-9e0c-c2a497308142"
      },
      "execution_count": null,
      "outputs": [
        {
          "output_type": "stream",
          "name": "stdout",
          "text": [
            "Hello,World!\n"
          ]
        }
      ]
    },
    {
      "cell_type": "markdown",
      "source": [
        "Python is case-sensitive"
      ],
      "metadata": {
        "id": "Bc-yGnduGp4Z"
      }
    },
    {
      "cell_type": "code",
      "source": [
        "Name=\"noushin\"\n",
        "name=\"mubin\"\n",
        "print(Name,name)"
      ],
      "metadata": {
        "colab": {
          "base_uri": "https://localhost:8080/"
        },
        "id": "hCkHmISGGv-6",
        "outputId": "a4e25f55-42b0-4f1b-ddb5-f69aa385e5a3"
      },
      "execution_count": null,
      "outputs": [
        {
          "output_type": "stream",
          "name": "stdout",
          "text": [
            "noushin mubin\n"
          ]
        }
      ]
    },
    {
      "cell_type": "markdown",
      "source": [
        "Indentation matters"
      ],
      "metadata": {
        "id": "WFDne5-DH5Hz"
      }
    },
    {
      "cell_type": "code",
      "source": [
        "if x>0:\n",
        "  print(\"x is positive\") #4 spaces indentation\n",
        "  print(\"this is inside the if block\")"
      ],
      "metadata": {
        "colab": {
          "base_uri": "https://localhost:8080/"
        },
        "id": "l4jtmAzkKA9J",
        "outputId": "de2481a2-f024-478a-bc99-9b1ea97d5f0e"
      },
      "execution_count": null,
      "outputs": [
        {
          "output_type": "stream",
          "name": "stdout",
          "text": [
            "x is positive\n",
            "this is inside the if block\n"
          ]
        }
      ]
    },
    {
      "cell_type": "markdown",
      "source": [
        "#**Variables & Data Types**"
      ],
      "metadata": {
        "id": "DxLI27ZnKXHp"
      }
    },
    {
      "cell_type": "markdown",
      "source": [
        "Numeric Types"
      ],
      "metadata": {
        "id": "1rjfhTQQLH7Z"
      }
    },
    {
      "cell_type": "code",
      "source": [
        "age=13 # int\n",
        "height=4.4 # float\n",
        "complex_num=3+4j # complex"
      ],
      "metadata": {
        "id": "u5Mft1hULLOa"
      },
      "execution_count": null,
      "outputs": []
    },
    {
      "cell_type": "markdown",
      "source": [
        "String Type"
      ],
      "metadata": {
        "id": "GRSyMd_OLjth"
      }
    },
    {
      "cell_type": "code",
      "source": [
        "name=\"ayesha\"\n",
        "msg='Hello World'\n",
        "multiline=\"\"\"this is multiline string\"\"\""
      ],
      "metadata": {
        "id": "frSBiZccLml5"
      },
      "execution_count": null,
      "outputs": []
    },
    {
      "cell_type": "markdown",
      "source": [
        "boolean type"
      ],
      "metadata": {
        "id": "IldbbC9nNKhR"
      }
    },
    {
      "cell_type": "code",
      "source": [
        "is_active = True\n",
        "is_finished = False"
      ],
      "metadata": {
        "id": "Ri3yNqL6NOUT"
      },
      "execution_count": null,
      "outputs": []
    },
    {
      "cell_type": "markdown",
      "source": [
        "Type checking"
      ],
      "metadata": {
        "id": "mGv6hjEINVjR"
      }
    },
    {
      "cell_type": "code",
      "source": [
        "print(type(age)) #<class 'int'>\n",
        "print(type(height)) #<class 'float'>\n",
        "print(type(name)) #<class 'str'>"
      ],
      "metadata": {
        "colab": {
          "base_uri": "https://localhost:8080/"
        },
        "id": "6HF96g7cNaIx",
        "outputId": "78886250-6da3-4bf3-d216-a0601bc1c02e"
      },
      "execution_count": null,
      "outputs": [
        {
          "output_type": "stream",
          "name": "stdout",
          "text": [
            "<class 'int'>\n",
            "<class 'float'>\n",
            "<class 'str'>\n"
          ]
        }
      ]
    },
    {
      "cell_type": "code",
      "source": [
        "type(age)"
      ],
      "metadata": {
        "colab": {
          "base_uri": "https://localhost:8080/"
        },
        "id": "WEmkdffyN7XJ",
        "outputId": "4349ec43-82c0-4c7c-e322-bd96b21d61d4"
      },
      "execution_count": null,
      "outputs": [
        {
          "output_type": "execute_result",
          "data": {
            "text/plain": [
              "int"
            ]
          },
          "metadata": {},
          "execution_count": 46
        }
      ]
    },
    {
      "cell_type": "markdown",
      "source": [
        "Type Conversion"
      ],
      "metadata": {
        "id": "6zJdyuG9Od5B"
      }
    },
    {
      "cell_type": "code",
      "source": [
        "str_number = \"123\"\n",
        "int_number = int(str_number)\n",
        "float_number = float(str_number)\n",
        "\n",
        "print(f\"original: {str_number} (type: {type(str_number)})\")\n",
        "print(f\"integer: {int_number} (type: {type(int_number)})\")\n",
        "print(f\"float: {float_number} (type: {type(float_number)})\")"
      ],
      "metadata": {
        "colab": {
          "base_uri": "https://localhost:8080/"
        },
        "id": "e_KRdLpVOC3p",
        "outputId": "dfbfb19c-5192-444e-b114-7ecebcc715d9"
      },
      "execution_count": null,
      "outputs": [
        {
          "output_type": "stream",
          "name": "stdout",
          "text": [
            "original: 123 (type: <class 'str'>)\n",
            "integer: 123 (type: <class 'int'>)\n",
            "float: 123.0 (type: <class 'float'>)\n"
          ]
        }
      ]
    },
    {
      "cell_type": "markdown",
      "source": [
        "**Hands-on Exercise:**"
      ],
      "metadata": {
        "id": "7MdmZawUh6fo"
      }
    },
    {
      "cell_type": "markdown",
      "source": [
        "**Exercise 1:Personal Information**"
      ],
      "metadata": {
        "id": "m2hrnUW1iCqQ"
      }
    },
    {
      "cell_type": "markdown",
      "source": [
        "Create variables for personal information"
      ],
      "metadata": {
        "id": "QJkB00gOiTuI"
      }
    },
    {
      "cell_type": "code",
      "source": [
        "first_name = \"Noushin\"\n",
        "last_name = \"Goundi\"\n",
        "age = 21\n",
        "height = 5.5\n",
        "is_student = True"
      ],
      "metadata": {
        "id": "FuptCVJEibYg"
      },
      "execution_count": null,
      "outputs": []
    },
    {
      "cell_type": "markdown",
      "source": [
        "Print formatted information"
      ],
      "metadata": {
        "id": "JZN67FH8itj4"
      }
    },
    {
      "cell_type": "code",
      "source": [
        "print(f\"Name: {first_name} {last_name}\")\n",
        "print(f\"Age: {age}\")\n",
        "print(f\"Height: {height} feet\")\n",
        "print(f\"Student: {is_student}\")"
      ],
      "metadata": {
        "colab": {
          "base_uri": "https://localhost:8080/"
        },
        "id": "ch9MXbziiw45",
        "outputId": "59e80a63-63f2-470f-ec22-3a11a6b04f82"
      },
      "execution_count": null,
      "outputs": [
        {
          "output_type": "stream",
          "name": "stdout",
          "text": [
            "Name: Noushin Goundi\n",
            "Age: 21\n",
            "Height: 5.5 feet\n",
            "Student: True\n"
          ]
        }
      ]
    },
    {
      "cell_type": "markdown",
      "source": [
        "Type conversions"
      ],
      "metadata": {
        "id": "D4mMvyE9j165"
      }
    },
    {
      "cell_type": "code",
      "source": [
        "age_str = str(age)\n",
        "height_int = int(height)\n",
        "print(f\"Age as string: {age_str}\")\n",
        "print(f\"Height as integer: {height_int}\")"
      ],
      "metadata": {
        "colab": {
          "base_uri": "https://localhost:8080/"
        },
        "id": "EJ91G4gTj5Ha",
        "outputId": "9a4b2248-4cbe-4291-ec2e-0f2332244817"
      },
      "execution_count": null,
      "outputs": [
        {
          "output_type": "stream",
          "name": "stdout",
          "text": [
            "Age as string: 21\n",
            "Height as integer: 5\n"
          ]
        }
      ]
    },
    {
      "cell_type": "markdown",
      "source": [
        "**Operators & Basic Operations**"
      ],
      "metadata": {
        "id": "bED2IikWkTxo"
      }
    },
    {
      "cell_type": "markdown",
      "source": [
        "Arithmetic Operators"
      ],
      "metadata": {
        "id": "lZlmuYo5mMjZ"
      }
    },
    {
      "cell_type": "code",
      "source": [
        "a=20\n",
        "b=15\n",
        "\n",
        "print(\"addition:\",(a+b))\n",
        "print(\"subtraction:\",(a-b))\n",
        "print(\"multiplication:\",(a*b))\n",
        "print(\"division:\",(a/b))\n",
        "print(\"floor division:\",(a//b))\n",
        "print(\"modulus:\",(a%b))\n",
        "print(\"exponentiation:\",(a**b))"
      ],
      "metadata": {
        "colab": {
          "base_uri": "https://localhost:8080/"
        },
        "id": "TVbCvNmBmS8R",
        "outputId": "e4ad15b2-b859-47ca-c16f-5a38b11f9cbe"
      },
      "execution_count": null,
      "outputs": [
        {
          "output_type": "stream",
          "name": "stdout",
          "text": [
            "addition: 35\n",
            "subtraction: 5\n",
            "multiplication: 300\n",
            "division: 1.3333333333333333\n",
            "floor division: 1\n",
            "modulus: 5\n",
            "exponentiation: 32768000000000000000\n"
          ]
        }
      ]
    },
    {
      "cell_type": "markdown",
      "source": [
        "Order of operations\n",
        "\n",
        "\n",
        "\n",
        "*   P-Parantheses\n",
        "*   E-Exponents\n",
        "*   M-Multiplication\n",
        "*   D-Divison\n",
        "*   A-Addition\n",
        "*   S-Subtraction\n",
        "\n",
        "\n",
        "\n",
        "\n",
        "\n",
        "\n",
        "\n",
        "\n",
        "\n",
        "\n",
        "\n"
      ],
      "metadata": {
        "id": "B0ydJEixonE5"
      }
    },
    {
      "cell_type": "code",
      "source": [
        "result = 2+3*4**2-1\n",
        "print(f\"2+3*4**2-1={result}\")"
      ],
      "metadata": {
        "colab": {
          "base_uri": "https://localhost:8080/"
        },
        "id": "ZgQV0r0-kYyQ",
        "outputId": "21286959-2396-42e9-ab88-9f85a94ce913"
      },
      "execution_count": null,
      "outputs": [
        {
          "output_type": "stream",
          "name": "stdout",
          "text": [
            "2+3*4**2-1=49\n"
          ]
        }
      ]
    },
    {
      "cell_type": "markdown",
      "source": [
        "Relational operator"
      ],
      "metadata": {
        "id": "TtYntXNCtIZo"
      }
    },
    {
      "cell_type": "code",
      "source": [
        "x = 5\n",
        "y = 10\n",
        "\n",
        "print(\"equal to:\",(x==y))\n",
        "print(\"not equal to:\",(x!=y))\n",
        "print(\"less than:\",(x<y))\n",
        "print(\"greater than:\",(x>y))\n",
        "print(\"less than or equal:\",(x<=y))\n",
        "print(\"greater than or equal:\",(x>=y))"
      ],
      "metadata": {
        "colab": {
          "base_uri": "https://localhost:8080/"
        },
        "id": "NTOF300ttPmU",
        "outputId": "f14fec65-9802-4867-fb11-432fb2c618a3"
      },
      "execution_count": null,
      "outputs": [
        {
          "output_type": "stream",
          "name": "stdout",
          "text": [
            "equal to: False\n",
            "not equal to: True\n",
            "less than: True\n",
            "greater than: False\n",
            "less than or equal: True\n",
            "greater than or equal: False\n"
          ]
        }
      ]
    },
    {
      "cell_type": "markdown",
      "source": [
        "String comparison"
      ],
      "metadata": {
        "id": "gzoQ3sSguE64"
      }
    },
    {
      "cell_type": "code",
      "source": [
        "name1=\"Alice\"\n",
        "name2=\"Bob\"\n",
        "print(f\"'{name1}' < '{name2}': {name1 < name2}\")"
      ],
      "metadata": {
        "colab": {
          "base_uri": "https://localhost:8080/"
        },
        "id": "iKZjDwXsuLWB",
        "outputId": "089e2edb-2ac6-4020-bbc9-3fbf14ef1131"
      },
      "execution_count": null,
      "outputs": [
        {
          "output_type": "stream",
          "name": "stdout",
          "text": [
            "'Alice' < 'Bob': True\n"
          ]
        }
      ]
    },
    {
      "cell_type": "markdown",
      "source": [
        "Logical operators"
      ],
      "metadata": {
        "id": "bJvxd5NIvFY4"
      }
    },
    {
      "cell_type": "code",
      "source": [
        "p=True\n",
        "q=False\n",
        "print(f\"p and q:{p and q}\")\n",
        "print(f\"p or q:{p or q}\")\n",
        "print(f\"not p:{not p}\")"
      ],
      "metadata": {
        "colab": {
          "base_uri": "https://localhost:8080/"
        },
        "id": "chRLuhNvvYrp",
        "outputId": "e49daf27-5ad1-423f-ee31-9fef69fe828a"
      },
      "execution_count": null,
      "outputs": [
        {
          "output_type": "stream",
          "name": "stdout",
          "text": [
            "p and q:False\n",
            "p or q:True\n",
            "not p:False\n"
          ]
        }
      ]
    },
    {
      "cell_type": "code",
      "source": [
        "# practice example\n",
        "age=20\n",
        "has_license = True\n",
        "can_drive = age >= 18 and has_license\n",
        "print(f\"can drive: {can_drive}\")"
      ],
      "metadata": {
        "colab": {
          "base_uri": "https://localhost:8080/"
        },
        "id": "aYcRPXqJwtMx",
        "outputId": "582e561f-4f7e-4cd2-d16e-083df7728b98"
      },
      "execution_count": null,
      "outputs": [
        {
          "output_type": "stream",
          "name": "stdout",
          "text": [
            "can drive: True\n"
          ]
        }
      ]
    },
    {
      "cell_type": "code",
      "source": [
        "#Multiple conditions\n",
        "score = 85\n",
        "is_present = True\n",
        "can_pass = score >= 80 and is_present\n",
        "print(f\"can pass: {can_pass}\")"
      ],
      "metadata": {
        "colab": {
          "base_uri": "https://localhost:8080/"
        },
        "id": "GueKxzG_xLSI",
        "outputId": "3fa3524a-8928-40fb-fa90-ce2871fcca30"
      },
      "execution_count": null,
      "outputs": [
        {
          "output_type": "stream",
          "name": "stdout",
          "text": [
            "can pass: True\n"
          ]
        }
      ]
    },
    {
      "cell_type": "markdown",
      "source": [
        "**Hands-on Exercise**\n",
        "\n",
        "\n",
        "\n",
        "Exercise 2: Simple Calculator\n",
        "\n",
        "Create a calculator that checks if a person qualifies for a loan"
      ],
      "metadata": {
        "id": "65wPu7EPxjEh"
      }
    },
    {
      "cell_type": "code",
      "source": [
        "#personal information\n",
        "age = 21\n",
        "annual_income = 40000\n",
        "credit_score = 550\n",
        "has_collateral = True"
      ],
      "metadata": {
        "id": "mGxJjzCvzPag"
      },
      "execution_count": null,
      "outputs": []
    },
    {
      "cell_type": "code",
      "source": [
        "#loan criteria\n",
        "min_age = 18\n",
        "min_income=30000\n",
        "min_credit_score = 650\n",
        "\n"
      ],
      "metadata": {
        "id": "-LgFYUqL0AZg"
      },
      "execution_count": null,
      "outputs": []
    },
    {
      "cell_type": "code",
      "source": [
        "#check qualification\n",
        "\n",
        "age_qualified = age >= min_age\n",
        "income_qualified = annual_income >= min_income\n",
        "credit_qualified = credit_score >= min_credit_score\n",
        "overall_qualified = age_qualified and income_qualified and credit_qualified\n",
        "\n"
      ],
      "metadata": {
        "id": "5WWW05uC4gx6"
      },
      "execution_count": null,
      "outputs": []
    },
    {
      "cell_type": "markdown",
      "source": [
        "#**Data Structures**"
      ],
      "metadata": {
        "id": "_EDSfaoW-6Ba"
      }
    },
    {
      "cell_type": "markdown",
      "source": [
        "#Lists"
      ],
      "metadata": {
        "id": "PKMf04ye_EyA"
      }
    },
    {
      "cell_type": "markdown",
      "source": [
        "#Creating lists"
      ],
      "metadata": {
        "id": "4OGXCCpI_JjI"
      }
    },
    {
      "cell_type": "code",
      "source": [
        "fruits = [\"apple\",\"banana\",\"orange\",\"grape\"]\n",
        "numbers = [10,20,30,40,50]\n",
        "mixed_data = [1,\"Hello\",3.14,True]"
      ],
      "metadata": {
        "id": "ZKRGzTjU_Nh3"
      },
      "execution_count": null,
      "outputs": []
    },
    {
      "cell_type": "markdown",
      "source": [
        "#List indexing(0-based)"
      ],
      "metadata": {
        "id": "ucnTBDOX_mGf"
      }
    },
    {
      "cell_type": "code",
      "source": [
        "print(f\"First fruit:{fruits[0]}\")\n",
        "print(f\"last fruit:{fruits[-1]}\")\n",
        "print(f\"second to last:{fruits[-2]}\")"
      ],
      "metadata": {
        "colab": {
          "base_uri": "https://localhost:8080/"
        },
        "id": "MJlbC0Na_kq4",
        "outputId": "3bdf096e-0ca2-42ba-dbce-32575e962c59"
      },
      "execution_count": null,
      "outputs": [
        {
          "output_type": "stream",
          "name": "stdout",
          "text": [
            "First fruit:apple\n",
            "last fruit:grape\n",
            "second to last:orange\n"
          ]
        }
      ]
    },
    {
      "cell_type": "markdown",
      "source": [
        "#List slicing"
      ],
      "metadata": {
        "id": "BadknjvtAS9v"
      }
    },
    {
      "cell_type": "code",
      "source": [
        "print(f\"First 2 fruits:{fruits[0:2]}\")\n",
        "print(f\"last 2 fruits:{fruits[-2]}\")\n",
        "print(f\"all except fruits:{fruits[1:]}\")"
      ],
      "metadata": {
        "colab": {
          "base_uri": "https://localhost:8080/"
        },
        "id": "s_Gohp57AWYf",
        "outputId": "b64e45a7-b2ea-4e0b-a93e-154e89117378"
      },
      "execution_count": null,
      "outputs": [
        {
          "output_type": "stream",
          "name": "stdout",
          "text": [
            "First 2 fruits:['apple', 'banana']\n",
            "last 2 fruits:orange\n",
            "all except fruits:['banana', 'orange', 'grape']\n"
          ]
        }
      ]
    },
    {
      "cell_type": "markdown",
      "source": [
        "#List methods"
      ],
      "metadata": {
        "id": "l7h4pENNAyM3"
      }
    },
    {
      "cell_type": "code",
      "source": [
        "fruits.append(\"kiwi\")\n",
        "fruits.insert(1,\"mango\")\n",
        "removed = fruits.pop()\n",
        "print(f\"Updated list: {fruits}\")\n",
        "print(f\"removed:{removed}\")"
      ],
      "metadata": {
        "colab": {
          "base_uri": "https://localhost:8080/"
        },
        "id": "UqFePEClA1T4",
        "outputId": "c63434ed-2e83-43b0-c43a-9232133f0b9b"
      },
      "execution_count": null,
      "outputs": [
        {
          "output_type": "stream",
          "name": "stdout",
          "text": [
            "Updated list: ['apple', 'mango', 'banana', 'orange', 'grape']\n",
            "removed:kiwi\n"
          ]
        }
      ]
    },
    {
      "cell_type": "markdown",
      "source": [
        "#List operations"
      ],
      "metadata": {
        "id": "HfBvo9Q6CCFz"
      }
    },
    {
      "cell_type": "code",
      "source": [
        "print(f\"length: {len(fruits)}\")\n",
        "print(f\"contains 'apple': {'apple' in fruits}\")\n",
        "print(f\"index of 'banana' {fruits.index('banana')}\")"
      ],
      "metadata": {
        "colab": {
          "base_uri": "https://localhost:8080/"
        },
        "id": "aStN6b63CKE_",
        "outputId": "7f4ae3d2-56a9-43a2-df76-8d635e17ed40"
      },
      "execution_count": null,
      "outputs": [
        {
          "output_type": "stream",
          "name": "stdout",
          "text": [
            "length: 5\n",
            "contains 'apple': True\n",
            "index of 'banana' 2\n"
          ]
        }
      ]
    },
    {
      "cell_type": "markdown",
      "source": [
        "#Tuples"
      ],
      "metadata": {
        "id": "1VAvHHp2DKsh"
      }
    },
    {
      "cell_type": "markdown",
      "source": [
        "#Tuples are immutable"
      ],
      "metadata": {
        "id": "gpg4wvu7DN-y"
      }
    },
    {
      "cell_type": "code",
      "source": [
        "coordinates = (10,20)\n",
        "rgb_color = (255,128,0)\n",
        "person_info = (\"alice\",25,\"engineer\",True)"
      ],
      "metadata": {
        "id": "nc7cn2xyDTE5"
      },
      "execution_count": null,
      "outputs": []
    },
    {
      "cell_type": "markdown",
      "source": [
        "#Tuple unpacking"
      ],
      "metadata": {
        "id": "2Ed2ccINDnFn"
      }
    },
    {
      "cell_type": "code",
      "source": [
        "x,y = coordinates\n",
        "print(f\"X: {x},Y:{y}\")"
      ],
      "metadata": {
        "colab": {
          "base_uri": "https://localhost:8080/"
        },
        "id": "tOPgoCoNDl_v",
        "outputId": "b507b757-a9ca-4689-e55d-cb5d1d4e49fe"
      },
      "execution_count": null,
      "outputs": [
        {
          "output_type": "stream",
          "name": "stdout",
          "text": [
            "X: 10,Y:20\n"
          ]
        }
      ]
    },
    {
      "cell_type": "markdown",
      "source": [
        "#Tuple methods"
      ],
      "metadata": {
        "id": "buSgEMauFFcJ"
      }
    },
    {
      "cell_type": "code",
      "source": [
        "print(f\"count of 25:{person_info.count(25)}\")\n",
        "print(f\"Index of 'engineer':{person_info.index('engineer')}\")"
      ],
      "metadata": {
        "colab": {
          "base_uri": "https://localhost:8080/"
        },
        "id": "h9fw5iZjFIiI",
        "outputId": "16eec379-5c7e-45b7-d36f-e417c9af75df"
      },
      "execution_count": null,
      "outputs": [
        {
          "output_type": "stream",
          "name": "stdout",
          "text": [
            "count of 25:1\n",
            "Index of 'engineer':2\n"
          ]
        }
      ]
    }
  ]
}