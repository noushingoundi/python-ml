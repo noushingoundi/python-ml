{
  "nbformat": 4,
  "nbformat_minor": 0,
  "metadata": {
    "colab": {
      "provenance": []
    },
    "kernelspec": {
      "name": "python3",
      "display_name": "Python 3"
    },
    "language_info": {
      "name": "python"
    }
  },
  "cells": [
    {
      "cell_type": "markdown",
      "source": [
        "#Visualizing Dummy Data"
      ],
      "metadata": {
        "id": "zY5pl9v5XjGw"
      }
    },
    {
      "cell_type": "markdown",
      "source": [
        "Dummy data"
      ],
      "metadata": {
        "id": "KPo6FwywXtwn"
      }
    },
    {
      "cell_type": "code",
      "execution_count": null,
      "metadata": {
        "id": "g7varWs1PvlI"
      },
      "outputs": [],
      "source": [
        "import numpy as np\n",
        "import matplotlib.pyplot as plt\n",
        "from sklearn.linear_model import LinearRegression\n",
        "from sklearn.preprocessing import PolynomialFeatures\n",
        "\n",
        "x = np.array([1,2,3,4,5]).reshape(-1,1)\n",
        "y = np.array([3,6,13,28,55])"
      ]
    },
    {
      "cell_type": "markdown",
      "source": [
        "#Linear regression"
      ],
      "metadata": {
        "id": "k4-vYflMaaoI"
      }
    },
    {
      "cell_type": "code",
      "source": [
        "linear_model = LinearRegression()\n",
        "linear_model.fit(x,y)\n",
        "y_pred_linear = linear_model.predict(x)"
      ],
      "metadata": {
        "id": "8GQLmLDiaf6o"
      },
      "execution_count": null,
      "outputs": []
    },
    {
      "cell_type": "markdown",
      "source": [
        "Polynomial regression(degree 2)"
      ],
      "metadata": {
        "id": "aS479evYawpw"
      }
    },
    {
      "cell_type": "code",
      "source": [
        "poly = PolynomialFeatures(degree=2)\n",
        "x_poly = poly.fit_transform(x)\n",
        "poly_model = LinearRegression()\n",
        "poly_model.fit(x_poly,y)\n",
        "y_pred_poly = poly_model.predict(x_poly)"
      ],
      "metadata": {
        "id": "Ot5AxN6ga1lX"
      },
      "execution_count": null,
      "outputs": []
    },
    {
      "cell_type": "markdown",
      "source": [
        "Plot"
      ],
      "metadata": {
        "id": "3VgtAwSQcmrQ"
      }
    },
    {
      "cell_type": "code",
      "source": [
        "plt.scatter(x,y,color='purple',label='Actual')\n",
        "plt.plot(x, y_pred_linear,label='Linear Fit',color='blue')\n",
        "plt.plot(x,y_pred_poly,label='Polynomial Fit (deg=2)',color='green')\n",
        "plt.title(\"Linear vs Polynomial Fit (Dummy data)\")\n",
        "plt.xlabel(\"x\")\n",
        "plt.ylabel(\"y\")\n",
        "plt.legend()\n",
        "plt.grid(True)\n",
        "plt.show()"
      ],
      "metadata": {
        "colab": {
          "base_uri": "https://localhost:8080/",
          "height": 786
        },
        "id": "pJs2ccK4coEh",
        "outputId": "bd9f7d4b-b687-4524-8b32-563248dabb04"
      },
      "execution_count": null,
      "outputs": [
        {
          "output_type": "error",
          "ename": "ValueError",
          "evalue": "x and y must have same first dimension, but have shapes (6699, 1) and (5,)",
          "traceback": [
            "\u001b[0;31m---------------------------------------------------------------------------\u001b[0m",
            "\u001b[0;31mValueError\u001b[0m                                Traceback (most recent call last)",
            "\u001b[0;32m/tmp/ipython-input-2713154363.py\u001b[0m in \u001b[0;36m<cell line: 0>\u001b[0;34m()\u001b[0m\n\u001b[1;32m      1\u001b[0m \u001b[0mplt\u001b[0m\u001b[0;34m.\u001b[0m\u001b[0mscatter\u001b[0m\u001b[0;34m(\u001b[0m\u001b[0mx\u001b[0m\u001b[0;34m,\u001b[0m\u001b[0my\u001b[0m\u001b[0;34m,\u001b[0m\u001b[0mcolor\u001b[0m\u001b[0;34m=\u001b[0m\u001b[0;34m'purple'\u001b[0m\u001b[0;34m,\u001b[0m\u001b[0mlabel\u001b[0m\u001b[0;34m=\u001b[0m\u001b[0;34m'Actual'\u001b[0m\u001b[0;34m)\u001b[0m\u001b[0;34m\u001b[0m\u001b[0;34m\u001b[0m\u001b[0m\n\u001b[0;32m----> 2\u001b[0;31m \u001b[0mplt\u001b[0m\u001b[0;34m.\u001b[0m\u001b[0mplot\u001b[0m\u001b[0;34m(\u001b[0m\u001b[0mx\u001b[0m\u001b[0;34m,\u001b[0m \u001b[0my_pred_linear\u001b[0m\u001b[0;34m,\u001b[0m\u001b[0mlabel\u001b[0m\u001b[0;34m=\u001b[0m\u001b[0;34m'Linear Fit'\u001b[0m\u001b[0;34m,\u001b[0m\u001b[0mcolor\u001b[0m\u001b[0;34m=\u001b[0m\u001b[0;34m'blue'\u001b[0m\u001b[0;34m)\u001b[0m\u001b[0;34m\u001b[0m\u001b[0;34m\u001b[0m\u001b[0m\n\u001b[0m\u001b[1;32m      3\u001b[0m \u001b[0mplt\u001b[0m\u001b[0;34m.\u001b[0m\u001b[0mplot\u001b[0m\u001b[0;34m(\u001b[0m\u001b[0mx\u001b[0m\u001b[0;34m,\u001b[0m\u001b[0my_pred_poly\u001b[0m\u001b[0;34m,\u001b[0m\u001b[0mlabel\u001b[0m\u001b[0;34m=\u001b[0m\u001b[0;34m'Polynomial Fit (deg=2)'\u001b[0m\u001b[0;34m,\u001b[0m\u001b[0mcolor\u001b[0m\u001b[0;34m=\u001b[0m\u001b[0;34m'green'\u001b[0m\u001b[0;34m)\u001b[0m\u001b[0;34m\u001b[0m\u001b[0;34m\u001b[0m\u001b[0m\n\u001b[1;32m      4\u001b[0m \u001b[0mplt\u001b[0m\u001b[0;34m.\u001b[0m\u001b[0mtitle\u001b[0m\u001b[0;34m(\u001b[0m\u001b[0;34m\"Linear vs Polynomial Fit (Dummy data)\"\u001b[0m\u001b[0;34m)\u001b[0m\u001b[0;34m\u001b[0m\u001b[0;34m\u001b[0m\u001b[0m\n\u001b[1;32m      5\u001b[0m \u001b[0mplt\u001b[0m\u001b[0;34m.\u001b[0m\u001b[0mxlabel\u001b[0m\u001b[0;34m(\u001b[0m\u001b[0;34m\"x\"\u001b[0m\u001b[0;34m)\u001b[0m\u001b[0;34m\u001b[0m\u001b[0;34m\u001b[0m\u001b[0m\n",
            "\u001b[0;32m/usr/local/lib/python3.11/dist-packages/matplotlib/pyplot.py\u001b[0m in \u001b[0;36mplot\u001b[0;34m(scalex, scaley, data, *args, **kwargs)\u001b[0m\n\u001b[1;32m   3827\u001b[0m     \u001b[0;34m**\u001b[0m\u001b[0mkwargs\u001b[0m\u001b[0;34m,\u001b[0m\u001b[0;34m\u001b[0m\u001b[0;34m\u001b[0m\u001b[0m\n\u001b[1;32m   3828\u001b[0m ) -> list[Line2D]:\n\u001b[0;32m-> 3829\u001b[0;31m     return gca().plot(\n\u001b[0m\u001b[1;32m   3830\u001b[0m         \u001b[0;34m*\u001b[0m\u001b[0margs\u001b[0m\u001b[0;34m,\u001b[0m\u001b[0;34m\u001b[0m\u001b[0;34m\u001b[0m\u001b[0m\n\u001b[1;32m   3831\u001b[0m         \u001b[0mscalex\u001b[0m\u001b[0;34m=\u001b[0m\u001b[0mscalex\u001b[0m\u001b[0;34m,\u001b[0m\u001b[0;34m\u001b[0m\u001b[0;34m\u001b[0m\u001b[0m\n",
            "\u001b[0;32m/usr/local/lib/python3.11/dist-packages/matplotlib/axes/_axes.py\u001b[0m in \u001b[0;36mplot\u001b[0;34m(self, scalex, scaley, data, *args, **kwargs)\u001b[0m\n\u001b[1;32m   1775\u001b[0m         \"\"\"\n\u001b[1;32m   1776\u001b[0m         \u001b[0mkwargs\u001b[0m \u001b[0;34m=\u001b[0m \u001b[0mcbook\u001b[0m\u001b[0;34m.\u001b[0m\u001b[0mnormalize_kwargs\u001b[0m\u001b[0;34m(\u001b[0m\u001b[0mkwargs\u001b[0m\u001b[0;34m,\u001b[0m \u001b[0mmlines\u001b[0m\u001b[0;34m.\u001b[0m\u001b[0mLine2D\u001b[0m\u001b[0;34m)\u001b[0m\u001b[0;34m\u001b[0m\u001b[0;34m\u001b[0m\u001b[0m\n\u001b[0;32m-> 1777\u001b[0;31m         \u001b[0mlines\u001b[0m \u001b[0;34m=\u001b[0m \u001b[0;34m[\u001b[0m\u001b[0;34m*\u001b[0m\u001b[0mself\u001b[0m\u001b[0;34m.\u001b[0m\u001b[0m_get_lines\u001b[0m\u001b[0;34m(\u001b[0m\u001b[0mself\u001b[0m\u001b[0;34m,\u001b[0m \u001b[0;34m*\u001b[0m\u001b[0margs\u001b[0m\u001b[0;34m,\u001b[0m \u001b[0mdata\u001b[0m\u001b[0;34m=\u001b[0m\u001b[0mdata\u001b[0m\u001b[0;34m,\u001b[0m \u001b[0;34m**\u001b[0m\u001b[0mkwargs\u001b[0m\u001b[0;34m)\u001b[0m\u001b[0;34m]\u001b[0m\u001b[0;34m\u001b[0m\u001b[0;34m\u001b[0m\u001b[0m\n\u001b[0m\u001b[1;32m   1778\u001b[0m         \u001b[0;32mfor\u001b[0m \u001b[0mline\u001b[0m \u001b[0;32min\u001b[0m \u001b[0mlines\u001b[0m\u001b[0;34m:\u001b[0m\u001b[0;34m\u001b[0m\u001b[0;34m\u001b[0m\u001b[0m\n\u001b[1;32m   1779\u001b[0m             \u001b[0mself\u001b[0m\u001b[0;34m.\u001b[0m\u001b[0madd_line\u001b[0m\u001b[0;34m(\u001b[0m\u001b[0mline\u001b[0m\u001b[0;34m)\u001b[0m\u001b[0;34m\u001b[0m\u001b[0;34m\u001b[0m\u001b[0m\n",
            "\u001b[0;32m/usr/local/lib/python3.11/dist-packages/matplotlib/axes/_base.py\u001b[0m in \u001b[0;36m__call__\u001b[0;34m(self, axes, data, return_kwargs, *args, **kwargs)\u001b[0m\n\u001b[1;32m    295\u001b[0m                 \u001b[0mthis\u001b[0m \u001b[0;34m+=\u001b[0m \u001b[0margs\u001b[0m\u001b[0;34m[\u001b[0m\u001b[0;36m0\u001b[0m\u001b[0;34m]\u001b[0m\u001b[0;34m,\u001b[0m\u001b[0;34m\u001b[0m\u001b[0;34m\u001b[0m\u001b[0m\n\u001b[1;32m    296\u001b[0m                 \u001b[0margs\u001b[0m \u001b[0;34m=\u001b[0m \u001b[0margs\u001b[0m\u001b[0;34m[\u001b[0m\u001b[0;36m1\u001b[0m\u001b[0;34m:\u001b[0m\u001b[0;34m]\u001b[0m\u001b[0;34m\u001b[0m\u001b[0;34m\u001b[0m\u001b[0m\n\u001b[0;32m--> 297\u001b[0;31m             yield from self._plot_args(\n\u001b[0m\u001b[1;32m    298\u001b[0m                 \u001b[0maxes\u001b[0m\u001b[0;34m,\u001b[0m \u001b[0mthis\u001b[0m\u001b[0;34m,\u001b[0m \u001b[0mkwargs\u001b[0m\u001b[0;34m,\u001b[0m \u001b[0mambiguous_fmt_datakey\u001b[0m\u001b[0;34m=\u001b[0m\u001b[0mambiguous_fmt_datakey\u001b[0m\u001b[0;34m,\u001b[0m\u001b[0;34m\u001b[0m\u001b[0;34m\u001b[0m\u001b[0m\n\u001b[1;32m    299\u001b[0m                 \u001b[0mreturn_kwargs\u001b[0m\u001b[0;34m=\u001b[0m\u001b[0mreturn_kwargs\u001b[0m\u001b[0;34m\u001b[0m\u001b[0;34m\u001b[0m\u001b[0m\n",
            "\u001b[0;32m/usr/local/lib/python3.11/dist-packages/matplotlib/axes/_base.py\u001b[0m in \u001b[0;36m_plot_args\u001b[0;34m(self, axes, tup, kwargs, return_kwargs, ambiguous_fmt_datakey)\u001b[0m\n\u001b[1;32m    492\u001b[0m \u001b[0;34m\u001b[0m\u001b[0m\n\u001b[1;32m    493\u001b[0m         \u001b[0;32mif\u001b[0m \u001b[0mx\u001b[0m\u001b[0;34m.\u001b[0m\u001b[0mshape\u001b[0m\u001b[0;34m[\u001b[0m\u001b[0;36m0\u001b[0m\u001b[0;34m]\u001b[0m \u001b[0;34m!=\u001b[0m \u001b[0my\u001b[0m\u001b[0;34m.\u001b[0m\u001b[0mshape\u001b[0m\u001b[0;34m[\u001b[0m\u001b[0;36m0\u001b[0m\u001b[0;34m]\u001b[0m\u001b[0;34m:\u001b[0m\u001b[0;34m\u001b[0m\u001b[0;34m\u001b[0m\u001b[0m\n\u001b[0;32m--> 494\u001b[0;31m             raise ValueError(f\"x and y must have same first dimension, but \"\n\u001b[0m\u001b[1;32m    495\u001b[0m                              f\"have shapes {x.shape} and {y.shape}\")\n\u001b[1;32m    496\u001b[0m         \u001b[0;32mif\u001b[0m \u001b[0mx\u001b[0m\u001b[0;34m.\u001b[0m\u001b[0mndim\u001b[0m \u001b[0;34m>\u001b[0m \u001b[0;36m2\u001b[0m \u001b[0;32mor\u001b[0m \u001b[0my\u001b[0m\u001b[0;34m.\u001b[0m\u001b[0mndim\u001b[0m \u001b[0;34m>\u001b[0m \u001b[0;36m2\u001b[0m\u001b[0;34m:\u001b[0m\u001b[0;34m\u001b[0m\u001b[0;34m\u001b[0m\u001b[0m\n",
            "\u001b[0;31mValueError\u001b[0m: x and y must have same first dimension, but have shapes (6699, 1) and (5,)"
          ]
        },
        {
          "output_type": "display_data",
          "data": {
            "text/plain": [
              "<Figure size 640x480 with 1 Axes>"
            ],
            "image/png": "[encoded data removed]"
          },
          "metadata": {}
        }
      ]
    },
    {
      "cell_type": "markdown",
      "source": [
        "Real Dataset:Salary prediction"
      ],
      "metadata": {
        "id": "I9rG8cVnhYch"
      }
    },
    {
      "cell_type": "code",
      "source": [
        "import pandas as pd\n",
        "from sklearn.model_selection import train_test_split\n",
        "from sklearn.metrics import mean_squared_error,r2_score"
      ],
      "metadata": {
        "id": "QghNu2J9efNa"
      },
      "execution_count": null,
      "outputs": []
    },
    {
      "cell_type": "markdown",
      "source": [
        "Load dataset"
      ],
      "metadata": {
        "id": "vfvILOB4jgFZ"
      }
    },
    {
      "cell_type": "code",
      "source": [
        "df = pd.read_csv(\"https://raw.githubusercontent.com/Naresh312143/mahalingpur-python-ml/refs/heads/main/Salary_Data.csv\")\n",
        "df.info()"
      ],
      "metadata": {
        "colab": {
          "base_uri": "https://localhost:8080/"
        },
        "id": "y_PZGXm6jmXK",
        "outputId": "69e2c0f3-05e9-4205-b0e0-f19e035a2906"
      },
      "execution_count": null,
      "outputs": [
        {
          "output_type": "stream",
          "name": "stdout",
          "text": [
            "<class 'pandas.core.frame.DataFrame'>\n",
            "RangeIndex: 6704 entries, 0 to 6703\n",
            "Data columns (total 2 columns):\n",
            " #   Column               Non-Null Count  Dtype  \n",
            "---  ------               --------------  -----  \n",
            " 0   Years of Experience  6701 non-null   float64\n",
            " 1   Salary               6699 non-null   float64\n",
            "dtypes: float64(2)\n",
            "memory usage: 104.9 KB\n"
          ]
        }
      ]
    },
    {
      "cell_type": "code",
      "source": [
        "df.isnull().sum()"
      ],
      "metadata": {
        "colab": {
          "base_uri": "https://localhost:8080/",
          "height": 146
        },
        "id": "i70tVveIknqS",
        "outputId": "1c94c39e-8f22-484e-e193-cdab042425f9"
      },
      "execution_count": null,
      "outputs": [
        {
          "output_type": "execute_result",
          "data": {
            "text/plain": [
              "Years of Experience    3\n",
              "Salary                 5\n",
              "dtype: int64"
            ],
            "text/html": [
              "<div>\n",
              "<style scoped>\n",
              "    .dataframe tbody tr th:only-of-type {\n",
              "        vertical-align: middle;\n",
              "    }\n",
              "\n",
              "    .dataframe tbody tr th {\n",
              "        vertical-align: top;\n",
              "    }\n",
              "\n",
              "    .dataframe thead th {\n",
              "        text-align: right;\n",
              "    }\n",
              "</style>\n",
              "<table border=\"1\" class=\"dataframe\">\n",
              "  <thead>\n",
              "    <tr style=\"text-align: right;\">\n",
              "      <th></th>\n",
              "      <th>0</th>\n",
              "    </tr>\n",
              "  </thead>\n",
              "  <tbody>\n",
              "    <tr>\n",
              "      <th>Years of Experience</th>\n",
              "      <td>3</td>\n",
              "    </tr>\n",
              "    <tr>\n",
              "      <th>Salary</th>\n",
              "      <td>5</td>\n",
              "    </tr>\n",
              "  </tbody>\n",
              "</table>\n",
              "</div><br><label><b>dtype:</b> int64</label>"
            ]
          },
          "metadata": {},
          "execution_count": 23
        }
      ]
    },
    {
      "cell_type": "code",
      "source": [
        "df.dropna(inplace=True)\n",
        "df.isnull().sum()\n"
      ],
      "metadata": {
        "colab": {
          "base_uri": "https://localhost:8080/",
          "height": 146
        },
        "id": "-czdBpgmku6I",
        "outputId": "0b8c5ed3-2b97-4825-bd5f-a39206aa2fc3"
      },
      "execution_count": null,
      "outputs": [
        {
          "output_type": "execute_result",
          "data": {
            "text/plain": [
              "Years of Experience    0\n",
              "Salary                 0\n",
              "dtype: int64"
            ],
            "text/html": [
              "<div>\n",
              "<style scoped>\n",
              "    .dataframe tbody tr th:only-of-type {\n",
              "        vertical-align: middle;\n",
              "    }\n",
              "\n",
              "    .dataframe tbody tr th {\n",
              "        vertical-align: top;\n",
              "    }\n",
              "\n",
              "    .dataframe thead th {\n",
              "        text-align: right;\n",
              "    }\n",
              "</style>\n",
              "<table border=\"1\" class=\"dataframe\">\n",
              "  <thead>\n",
              "    <tr style=\"text-align: right;\">\n",
              "      <th></th>\n",
              "      <th>0</th>\n",
              "    </tr>\n",
              "  </thead>\n",
              "  <tbody>\n",
              "    <tr>\n",
              "      <th>Years of Experience</th>\n",
              "      <td>0</td>\n",
              "    </tr>\n",
              "    <tr>\n",
              "      <th>Salary</th>\n",
              "      <td>0</td>\n",
              "    </tr>\n",
              "  </tbody>\n",
              "</table>\n",
              "</div><br><label><b>dtype:</b> int64</label>"
            ]
          },
          "metadata": {},
          "execution_count": 24
        }
      ]
    },
    {
      "cell_type": "markdown",
      "source": [
        "Train-test split"
      ],
      "metadata": {
        "id": "UJu_5DtLk7Qq"
      }
    },
    {
      "cell_type": "code",
      "source": [
        "x = df[[\"Years of Experience\"]]\n",
        "y = df[\"Salary\"]\n",
        "\n",
        "x_train,x_test,y_train,y_test = train_test_split(\n",
        "    x,y,test_size=0.2,random_state=42\n",
        ")"
      ],
      "metadata": {
        "id": "2fkRGosvk_qg"
      },
      "execution_count": null,
      "outputs": []
    },
    {
      "cell_type": "markdown",
      "source": [
        "Linear regression"
      ],
      "metadata": {
        "id": "apmhemjzl25a"
      }
    },
    {
      "cell_type": "markdown",
      "source": [
        "Train linear regression"
      ],
      "metadata": {
        "id": "KF9BPQYel8M6"
      }
    },
    {
      "cell_type": "code",
      "source": [
        "lin_model = LinearRegression()\n",
        "lin_model.fit(x_train,y_train)\n",
        "y_pred_lin = lin_model.predict(x_test)"
      ],
      "metadata": {
        "id": "sZtT1CWpmDE5"
      },
      "execution_count": null,
      "outputs": []
    },
    {
      "cell_type": "markdown",
      "source": [
        "Metrics"
      ],
      "metadata": {
        "id": "IuMzeBFPmj5C"
      }
    },
    {
      "cell_type": "code",
      "source": [
        "mse_lin = mean_squared_error(y_test,y_pred_lin)\n",
        "rmse_lin = np.sqrt(mse_lin)\n",
        "r2_lin = r2_score(y_test,y_pred_lin)\n",
        "\n",
        "\n",
        "print(\"Linear regression:\")\n",
        "print(\"MSE:\",mse_lin)\n",
        "print(\"RMSE:\",rmse_lin)\n",
        "print(\"R2 Score:\",r2_lin)"
      ],
      "metadata": {
        "colab": {
          "base_uri": "https://localhost:8080/"
        },
        "id": "vNczSSxFmKK4",
        "outputId": "87e6ff97-42cd-4b17-f09f-df0f041c4a56"
      },
      "execution_count": null,
      "outputs": [
        {
          "output_type": "stream",
          "name": "stdout",
          "text": [
            "Linear regression:\n",
            "MSE: 946833177.7094355\n",
            "RMSE: 30770.654489455297\n",
            "R2 Score: 0.6669549610495003\n"
          ]
        }
      ]
    },
    {
      "cell_type": "markdown",
      "source": [
        "Polynomial regression (Degree 2 and 4)"
      ],
      "metadata": {
        "id": "XR_cqsdULv3F"
      }
    },
    {
      "cell_type": "markdown",
      "source": [
        "Degree 2"
      ],
      "metadata": {
        "id": "va4ljvBzO0m1"
      }
    },
    {
      "cell_type": "code",
      "source": [
        "poly2 = PolynomialFeatures(degree=2)\n",
        "x_train_poly2 = poly2.fit_transform(x_train)\n",
        "x_test_poly2 = poly2.transform(x_test)\n",
        "\n",
        "\n",
        "poly2_model = LinearRegression()\n",
        "poly2_model.fit(x_train_poly2,y_train)\n",
        "y_pred_poly2 = poly2_model.predict(x_test_poly2)"
      ],
      "metadata": {
        "id": "fKiqjyMiO131"
      },
      "execution_count": null,
      "outputs": []
    },
    {
      "cell_type": "code",
      "source": [
        "x_train_poly2"
      ],
      "metadata": {
        "colab": {
          "base_uri": "https://localhost:8080/"
        },
        "id": "tSnpwa-7RlIe",
        "outputId": "2236e697-74bd-4057-afec-2da511852a05"
      },
      "execution_count": null,
      "outputs": [
        {
          "output_type": "execute_result",
          "data": {
            "text/plain": [
              "array([[  1.,   3.,   9.],\n",
              "       [  1.,   6.,  36.],\n",
              "       [  1.,  10., 100.],\n",
              "       ...,\n",
              "       [  1.,   7.,  49.],\n",
              "       [  1.,   8.,  64.],\n",
              "       [  1.,   2.,   4.]])"
            ]
          },
          "metadata": {},
          "execution_count": 32
        }
      ]
    },
    {
      "cell_type": "code",
      "source": [
        "x_test_poly2"
      ],
      "metadata": {
        "colab": {
          "base_uri": "https://localhost:8080/"
        },
        "id": "02Aa5bP7RdMM",
        "outputId": "9c742ebc-0078-466b-b9e6-9d93d90c8980"
      },
      "execution_count": null,
      "outputs": [
        {
          "output_type": "execute_result",
          "data": {
            "text/plain": [
              "array([[ 1.,  2.,  4.],\n",
              "       [ 1.,  8., 64.],\n",
              "       [ 1.,  3.,  9.],\n",
              "       ...,\n",
              "       [ 1.,  1.,  1.],\n",
              "       [ 1.,  3.,  9.],\n",
              "       [ 1.,  0.,  0.]])"
            ]
          },
          "metadata": {},
          "execution_count": 31
        }
      ]
    },
    {
      "cell_type": "markdown",
      "source": [
        "Metrics"
      ],
      "metadata": {
        "id": "0qA8as-DQlEd"
      }
    },
    {
      "cell_type": "code",
      "source": [
        "mse_poly2 = mean_squared_error(y_test,y_pred_poly2)\n",
        "rmse_poly2 = np.sqrt(mse_poly2)\n",
        "r2_poly2 = r2_score(y_test,y_pred_poly2)"
      ],
      "metadata": {
        "id": "yaaQF0cbQnE2"
      },
      "execution_count": null,
      "outputs": []
    },
    {
      "cell_type": "markdown",
      "source": [
        "Degree 4"
      ],
      "metadata": {
        "id": "F3UfubaMRpxF"
      }
    },
    {
      "cell_type": "code",
      "source": [
        "poly4 = PolynomialFeatures(degree=4)\n",
        "x_train_poly4 = poly4.fit_transform(x_train)\n",
        "x_test_poly4 = poly4.transform(x_test)\n",
        "\n",
        "\n",
        "poly4_model = LinearRegression()\n",
        "poly4_model.fit(x_train_poly4,y_train)\n",
        "y_pred_poly4 = poly4_model.predict(x_test_poly4)"
      ],
      "metadata": {
        "id": "fJJgmSVdR2TB"
      },
      "execution_count": null,
      "outputs": []
    },
    {
      "cell_type": "code",
      "source": [
        "x_train_poly4"
      ],
      "metadata": {
        "colab": {
          "base_uri": "https://localhost:8080/"
        },
        "id": "oSArRaSoSIdt",
        "outputId": "4de0b831-a787-4a11-afd2-ffa577f6b695"
      },
      "execution_count": null,
      "outputs": [
        {
          "output_type": "execute_result",
          "data": {
            "text/plain": [
              "array([[1.000e+00, 3.000e+00, 9.000e+00, 2.700e+01, 8.100e+01],\n",
              "       [1.000e+00, 6.000e+00, 3.600e+01, 2.160e+02, 1.296e+03],\n",
              "       [1.000e+00, 1.000e+01, 1.000e+02, 1.000e+03, 1.000e+04],\n",
              "       ...,\n",
              "       [1.000e+00, 7.000e+00, 4.900e+01, 3.430e+02, 2.401e+03],\n",
              "       [1.000e+00, 8.000e+00, 6.400e+01, 5.120e+02, 4.096e+03],\n",
              "       [1.000e+00, 2.000e+00, 4.000e+00, 8.000e+00, 1.600e+01]])"
            ]
          },
          "metadata": {},
          "execution_count": 34
        }
      ]
    },
    {
      "cell_type": "code",
      "source": [
        "x_test_poly4"
      ],
      "metadata": {
        "colab": {
          "base_uri": "https://localhost:8080/"
        },
        "id": "pyJLeRqISLO9",
        "outputId": "c7939c66-050f-4067-8128-e0bc2161411b"
      },
      "execution_count": null,
      "outputs": [
        {
          "output_type": "execute_result",
          "data": {
            "text/plain": [
              "array([[1.000e+00, 2.000e+00, 4.000e+00, 8.000e+00, 1.600e+01],\n",
              "       [1.000e+00, 8.000e+00, 6.400e+01, 5.120e+02, 4.096e+03],\n",
              "       [1.000e+00, 3.000e+00, 9.000e+00, 2.700e+01, 8.100e+01],\n",
              "       ...,\n",
              "       [1.000e+00, 1.000e+00, 1.000e+00, 1.000e+00, 1.000e+00],\n",
              "       [1.000e+00, 3.000e+00, 9.000e+00, 2.700e+01, 8.100e+01],\n",
              "       [1.000e+00, 0.000e+00, 0.000e+00, 0.000e+00, 0.000e+00]])"
            ]
          },
          "metadata": {},
          "execution_count": 35
        }
      ]
    },
    {
      "cell_type": "markdown",
      "source": [
        "Metrics"
      ],
      "metadata": {
        "id": "XOFQjbybSTW-"
      }
    },
    {
      "cell_type": "code",
      "source": [
        "mse_poly4 = mean_squared_error(y_test,y_pred_poly4)\n",
        "rmse_poly4 = np.sqrt(mse_poly4)\n",
        "r2_poly4 = r2_score(y_test,y_pred_poly4)\n",
        "\n",
        "\n",
        "\n",
        "print(\"\\nPolynomial regression (Degree2)\")\n",
        "print(\"MSE:\",mse_poly2)\n",
        "print(\"RMSE:\",rmse_poly2)\n",
        "print(\"R2 Score:\",r2_poly2)\n",
        "\n",
        "print(\"\\nPolynomial regression (Degree4)\")\n",
        "print(\"MSE:\",mse_poly4)\n",
        "print(\"RMSE:\",rmse_poly4)\n",
        "print(\"R2 Score:\",r2_poly4)\n",
        "\n",
        "\n",
        "\n",
        "\n",
        "\n"
      ],
      "metadata": {
        "colab": {
          "base_uri": "https://localhost:8080/"
        },
        "id": "RPTWiWrbSaFt",
        "outputId": "d39d55e9-948d-4a3c-8a0e-6e82b80ce2de"
      },
      "execution_count": null,
      "outputs": [
        {
          "output_type": "stream",
          "name": "stdout",
          "text": [
            "\n",
            "Polynomial regression (Degree2)\n",
            "MSE: 726857249.7211918\n",
            "RMSE: 26960.290238074067\n",
            "R2 Score: 0.7443306732971963\n",
            "\n",
            "Polynomial regression (Degree4)\n",
            "MSE: 720033651.6859531\n",
            "RMSE: 26833.44278481524\n",
            "R2 Score: 0.7467308484568018\n"
          ]
        }
      ]
    },
    {
      "cell_type": "markdown",
      "source": [
        "#**Visualization of All Methods**"
      ],
      "metadata": {
        "id": "J5cgt7L1UGBO"
      }
    },
    {
      "cell_type": "markdown",
      "source": [
        "Generate smooth line for predictions"
      ],
      "metadata": {
        "id": "GcZOIUUxUNFd"
      }
    },
    {
      "cell_type": "code",
      "source": [
        "x_range = np.linspace(x.min(),x.max(),100).reshape(-1,1)\n",
        "\n",
        "\n",
        "#Create dataframe with column name\n",
        "x_range_df = pd.DataFrame(x_range,columns=[\"Years of Experience\"])\n",
        "\n",
        "#transform using polynomial features\n",
        "x_range_poly2 = poly2.transform(x_range_df)\n",
        "x_range_poly4 = poly4.transform(x_range_df)\n",
        "\n",
        "#Predict using models\n",
        "y_range_lin = lin_model.predict(x_range_df)\n",
        "y_range_poly2 = poly2_model.predict(x_range_poly2)\n",
        "y_range_poly4 = poly4_model.predict(x_range_poly4)\n",
        "\n",
        "#plot\n",
        "plt.scatter(x,y,color='purple',label='Actual')\n",
        "plt.plot(x_range, y_range_lin,label='Linear Model',color='blue')\n",
        "plt.plot(x_range,y_range_poly2,label='Polynomial Degree=2',color='green')\n",
        "\n",
        "plt.plot(x_range,y_range_poly4,label='Polynomial Degree=4',color='yellow')\n",
        "plt.xlabel(\"Years of experience\")\n",
        "plt.ylabel(\"Salary\")\n",
        "plt.title(\"Model Comparison\")\n",
        "plt.legend()\n",
        "plt.grid(True)\n",
        "plt.show()\n"
      ],
      "metadata": {
        "colab": {
          "base_uri": "https://localhost:8080/",
          "height": 472
        },
        "id": "SXftxyYmUSu2",
        "outputId": "4efa0208-823e-41a0-8511-0fdc1ea167c9"
      },
      "execution_count": null,
      "outputs": [
        {
          "output_type": "display_data",
          "data": {
            "text/plain": [
              "<Figure size 640x480 with 1 Axes>"
            ],
            "image/png": "[encoded data removed]"
          },
          "metadata": {}
        }
      ]
    },
    {
      "cell_type": "markdown",
      "source": [
        "Model Performance Comparison"
      ],
      "metadata": {
        "id": "6cfnon8aYzh3"
      }
    },
    {
      "cell_type": "code",
      "source": [
        "metrics_df = pd.DataFrame({\n",
        "    \"Model\" : [\"Linear Regression\",\"Polynomial (Degree 2)\",\"Polynomial (Degree 4)\"],\n",
        "    \"MSE\" : [mse_lin,mse_poly2,mse_poly4],\n",
        "    \"RMSE\" : [rmse_lin,rmse_poly2,rmse_poly4],\n",
        "    \"R2 Score\" : [r2_lin,r2_poly2,r2_poly4]\n",
        "})\n",
        "\n",
        "metrics_df.style.format({\n",
        "    \"MSE\": \"{:.2f}\",\n",
        "    \"RMSE\": \"{:.2f}\",\n",
        "    \"R2 Score\": \"{:.4f}\"\n",
        "})"
      ],
      "metadata": {
        "colab": {
          "base_uri": "https://localhost:8080/",
          "height": 143
        },
        "id": "YUaslryhY36f",
        "outputId": "93e930da-de3a-4aad-d4d2-6c5259a91b4a"
      },
      "execution_count": null,
      "outputs": [
        {
          "output_type": "execute_result",
          "data": {
            "text/plain": [
              "<pandas.io.formats.style.Styler at 0x7ed0ed67c750>"
            ],
            "text/html": [
              "<style type=\"text/css\">\n",
              "</style>\n",
              "<table id=\"T_3cc62\" class=\"dataframe\">\n",
              "  <thead>\n",
              "    <tr>\n",
              "      <th class=\"blank level0\" >&nbsp;</th>\n",
              "      <th id=\"T_3cc62_level0_col0\" class=\"col_heading level0 col0\" >Model</th>\n",
              "      <th id=\"T_3cc62_level0_col1\" class=\"col_heading level0 col1\" >MSE</th>\n",
              "      <th id=\"T_3cc62_level0_col2\" class=\"col_heading level0 col2\" >RMSE</th>\n",
              "      <th id=\"T_3cc62_level0_col3\" class=\"col_heading level0 col3\" >R2 Score</th>\n",
              "    </tr>\n",
              "  </thead>\n",
              "  <tbody>\n",
              "    <tr>\n",
              "      <th id=\"T_3cc62_level0_row0\" class=\"row_heading level0 row0\" >0</th>\n",
              "      <td id=\"T_3cc62_row0_col0\" class=\"data row0 col0\" >Linear Regression</td>\n",
              "      <td id=\"T_3cc62_row0_col1\" class=\"data row0 col1\" >946833177.71</td>\n",
              "      <td id=\"T_3cc62_row0_col2\" class=\"data row0 col2\" >30770.65</td>\n",
              "      <td id=\"T_3cc62_row0_col3\" class=\"data row0 col3\" >0.6670</td>\n",
              "    </tr>\n",
              "    <tr>\n",
              "      <th id=\"T_3cc62_level0_row1\" class=\"row_heading level0 row1\" >1</th>\n",
              "      <td id=\"T_3cc62_row1_col0\" class=\"data row1 col0\" >Polynomial (Degree 2)</td>\n",
              "      <td id=\"T_3cc62_row1_col1\" class=\"data row1 col1\" >726857249.72</td>\n",
              "      <td id=\"T_3cc62_row1_col2\" class=\"data row1 col2\" >26960.29</td>\n",
              "      <td id=\"T_3cc62_row1_col3\" class=\"data row1 col3\" >0.7443</td>\n",
              "    </tr>\n",
              "    <tr>\n",
              "      <th id=\"T_3cc62_level0_row2\" class=\"row_heading level0 row2\" >2</th>\n",
              "      <td id=\"T_3cc62_row2_col0\" class=\"data row2 col0\" >Polynomial (Degree 4)</td>\n",
              "      <td id=\"T_3cc62_row2_col1\" class=\"data row2 col1\" >720033651.69</td>\n",
              "      <td id=\"T_3cc62_row2_col2\" class=\"data row2 col2\" >26833.44</td>\n",
              "      <td id=\"T_3cc62_row2_col3\" class=\"data row2 col3\" >0.7467</td>\n",
              "    </tr>\n",
              "  </tbody>\n",
              "</table>\n"
            ]
          },
          "metadata": {},
          "execution_count": 45
        }
      ]
    }
  ]
}